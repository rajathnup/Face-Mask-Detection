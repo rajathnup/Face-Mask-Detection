{
 "cells": [
  {
   "cell_type": "code",
   "execution_count": 3,
   "id": "a735f3ba",
   "metadata": {},
   "outputs": [
    {
     "name": "stderr",
     "output_type": "stream",
     "text": [
      "E:\\anacond3_9\\lib\\site-packages\\PIL\\Image.py:945: UserWarning: Palette images with Transparency expressed in bytes should be converted to RGBA images\n",
      "  warnings.warn(\n"
     ]
    }
   ],
   "source": [
    "from tensorflow.keras.preprocessing.image import ImageDataGenerator\n",
    "from tensorflow.keras.applications import MobileNetV2\n",
    "from tensorflow.keras.layers import AveragePooling2D\n",
    "from tensorflow.keras.layers import Dropout\n",
    "from tensorflow.keras.layers import Flatten\n",
    "from tensorflow.keras.layers import Dense\n",
    "from tensorflow.keras.layers import Input\n",
    "from tensorflow.keras.models import Model\n",
    "from tensorflow.keras.optimizers import Adam\n",
    "from tensorflow.keras.applications.mobilenet_v2 import preprocess_input\n",
    "from tensorflow.keras.preprocessing.image import img_to_array\n",
    "from tensorflow.keras.preprocessing.image import load_img\n",
    "from tensorflow.keras.utils import to_categorical\n",
    "from sklearn.preprocessing import LabelBinarizer\n",
    "from sklearn.model_selection import train_test_split\n",
    "from sklearn.metrics import classification_report\n",
    "from imutils import paths\n",
    "import matplotlib.pyplot as plt\n",
    "import numpy as np\n",
    "import os\n",
    "\n",
    "\n",
    "folder = r\"C:\\Users\\Rajath\\Desktop\\Face-Mask-Detection-master\\dataset\\train\"\n",
    "category = [\"mask\", \"no_mask\"]\n",
    "\n",
    "\n",
    "x = []\n",
    "y = []\n",
    "\n",
    "for ca in category:\n",
    "    path = os.path.join(folder, ca)\n",
    "    for im in os.listdir(path):\n",
    "    \tim_path = os.path.join(path, im)\n",
    "    \timg = load_img(im_path, target_size=(224, 224))\n",
    "    \timg = img_to_array(img)\n",
    "    \timg = preprocess_input(img)\n",
    "\n",
    "    \tx.append(img)\n",
    "    \ty.append(ca)\n",
    "\n",
    "# perform one-hot encoding on the labels\n",
    "lb = LabelBinarizer()\n",
    "y = lb.fit_transform(y)\n",
    "y = to_categorical(y)\n",
    "x = np.array(x, dtype=\"float32\")\n",
    "y = np.array(y)\n",
    "\n",
    "(x_train, x_test, y_train, y_test) = train_test_split(x, y,\n",
    "\ttest_size=0.20, stratify=y, random_state=42)\n",
    "\n",
    "# construct the training image generator for data augmentation\n",
    "augment = ImageDataGenerator(\n",
    "    rotation_range=20,\n",
    "    zoom_range=0.15,\n",
    "    width_shift_range=0.2,\n",
    "    height_shift_range=0.2,\n",
    "    shear_range=0.15,\n",
    "    horizontal_flip=True,\n",
    "    fill_mode=\"nearest\")"
   ]
  },
  {
   "cell_type": "code",
   "execution_count": 6,
   "id": "e97c2d17",
   "metadata": {},
   "outputs": [],
   "source": [
    "from tensorflow.keras.models import load_model\n",
    "m2 = load_model(\"vgg16.model\")\n",
    "m1=load_model(\"mobilenetv2.model\")"
   ]
  },
  {
   "cell_type": "code",
   "execution_count": 7,
   "id": "ef138880",
   "metadata": {},
   "outputs": [
    {
     "name": "stdout",
     "output_type": "stream",
     "text": [
      "30/30 [==============================] - 30s 802ms/step\n",
      "30/30 [==============================] - 372s 12s/step\n"
     ]
    }
   ],
   "source": [
    "pred1 = m1.predict(x_test, batch_size=32)\n",
    "pred2 = m2.predict(x_test, batch_size=32)"
   ]
  },
  {
   "cell_type": "code",
   "execution_count": 19,
   "id": "15729afa",
   "metadata": {},
   "outputs": [
    {
     "data": {
      "text/plain": [
       "352.5117207805306"
      ]
     },
     "execution_count": 19,
     "metadata": {},
     "output_type": "execute_result"
    }
   ],
   "source": [
    "list1 =sum(pred1[:,0] + pred2[:,0])\n",
    "list1/2"
   ]
  },
  {
   "cell_type": "code",
   "execution_count": null,
   "id": "3a580f58",
   "metadata": {},
   "outputs": [],
   "source": []
  },
  {
   "cell_type": "code",
   "execution_count": 12,
   "id": "64c5024c",
   "metadata": {},
   "outputs": [
    {
     "data": {
      "text/plain": [
       "array([[9.9999857e-01, 1.4739564e-06],\n",
       "       [6.8865402e-06, 9.9999309e-01],\n",
       "       [3.3666131e-01, 6.6333872e-01],\n",
       "       ...,\n",
       "       [1.0923641e-02, 9.8907638e-01],\n",
       "       [6.7912021e-07, 9.9999928e-01],\n",
       "       [9.9999726e-01, 2.7443475e-06]], dtype=float32)"
      ]
     },
     "execution_count": 12,
     "metadata": {},
     "output_type": "execute_result"
    }
   ],
   "source": [
    "pred1"
   ]
  },
  {
   "cell_type": "code",
   "execution_count": 22,
   "id": "c60f361e",
   "metadata": {},
   "outputs": [
    {
     "data": {
      "text/plain": [
       "array([[0.65455776, 0.3454423 ],\n",
       "       [0.35165533, 0.64834464],\n",
       "       [0.13911591, 0.86088413],\n",
       "       ...,\n",
       "       [0.00514391, 0.9948561 ],\n",
       "       [0.03330072, 0.96669924],\n",
       "       [0.99647826, 0.00352173]], dtype=float32)"
      ]
     },
     "execution_count": 22,
     "metadata": {},
     "output_type": "execute_result"
    }
   ],
   "source": [
    "pred2"
   ]
  },
  {
   "cell_type": "code",
   "execution_count": 23,
   "id": "2db8c3f8",
   "metadata": {},
   "outputs": [],
   "source": [
    "pred3=pred1+pred2"
   ]
  },
  {
   "cell_type": "code",
   "execution_count": 27,
   "id": "4ce50cae",
   "metadata": {},
   "outputs": [
    {
     "data": {
      "text/plain": [
       "array([[0.82727814, 0.17272188],\n",
       "       [0.17583111, 0.82416886],\n",
       "       [0.2378886 , 0.7621114 ],\n",
       "       ...,\n",
       "       [0.00803378, 0.99196625],\n",
       "       [0.0166507 , 0.98334926],\n",
       "       [0.9982377 , 0.00176224]], dtype=float32)"
      ]
     },
     "execution_count": 27,
     "metadata": {},
     "output_type": "execute_result"
    }
   ],
   "source": [
    "pred3/2"
   ]
  },
  {
   "cell_type": "code",
   "execution_count": 28,
   "id": "0088651f",
   "metadata": {},
   "outputs": [
    {
     "name": "stdout",
     "output_type": "stream",
     "text": [
      "              precision    recall  f1-score   support\n",
      "\n",
      "        mask       0.99      0.98      0.98       376\n",
      "     no_mask       0.98      0.99      0.99       557\n",
      "\n",
      "    accuracy                           0.98       933\n",
      "   macro avg       0.99      0.98      0.98       933\n",
      "weighted avg       0.99      0.98      0.98       933\n",
      "\n"
     ]
    }
   ],
   "source": [
    "pred3 = np.argmax(pred3, axis=1)\n",
    "\n",
    "\n",
    "print(classification_report(y_test.argmax(axis=1), pred3,target_names=lb.classes_))\n"
   ]
  },
  {
   "cell_type": "code",
   "execution_count": null,
   "id": "d1e517bc",
   "metadata": {},
   "outputs": [],
   "source": []
  }
 ],
 "metadata": {
  "kernelspec": {
   "display_name": "Python 3 (ipykernel)",
   "language": "python",
   "name": "python3"
  },
  "language_info": {
   "codemirror_mode": {
    "name": "ipython",
    "version": 3
   },
   "file_extension": ".py",
   "mimetype": "text/x-python",
   "name": "python",
   "nbconvert_exporter": "python",
   "pygments_lexer": "ipython3",
   "version": "3.9.12"
  }
 },
 "nbformat": 4,
 "nbformat_minor": 5
}
