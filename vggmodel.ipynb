{
 "cells": [
  {
   "cell_type": "code",
   "execution_count": 1,
   "id": "6c4de667",
   "metadata": {},
   "outputs": [],
   "source": [
    "from tensorflow.keras.preprocessing.image import ImageDataGenerator\n",
    "from tensorflow.keras.applications import MobileNetV2\n",
    "from tensorflow.keras.layers import AveragePooling2D\n",
    "from tensorflow.keras.layers import Dropout\n",
    "from tensorflow.keras.layers import Flatten\n",
    "from tensorflow.keras.layers import Dense\n",
    "from tensorflow.keras.layers import Input\n",
    "from tensorflow.keras.models import Model\n",
    "from tensorflow.keras.optimizers import Adam\n",
    "from tensorflow.keras.applications.mobilenet_v2 import preprocess_input\n",
    "from tensorflow.keras.preprocessing.image import img_to_array\n",
    "from tensorflow.keras.preprocessing.image import load_img\n",
    "from tensorflow.keras.utils import to_categorical\n",
    "from sklearn.preprocessing import LabelBinarizer\n",
    "from sklearn.model_selection import train_test_split\n",
    "from sklearn.metrics import classification_report\n",
    "from imutils import paths\n",
    "import matplotlib.pyplot as plt\n",
    "import numpy as np\n",
    "import os"
   ]
  },
  {
   "cell_type": "code",
   "execution_count": 2,
   "id": "73e70247",
   "metadata": {
    "scrolled": true
   },
   "outputs": [],
   "source": [
    "folder=r\"C:\\Users\\Rajath\\Desktop\\Face-Mask-Detection-master\\dataset\\train\"\n",
    "cat=[\"mask\", \"no_mask\"]\n"
   ]
  },
  {
   "cell_type": "code",
   "execution_count": 3,
   "id": "3fee00eb",
   "metadata": {},
   "outputs": [
    {
     "name": "stderr",
     "output_type": "stream",
     "text": [
      "E:\\anacond3_9\\lib\\site-packages\\PIL\\Image.py:945: UserWarning: Palette images with Transparency expressed in bytes should be converted to RGBA images\n",
      "  warnings.warn(\n"
     ]
    }
   ],
   "source": [
    "x = []\n",
    "y = []\n",
    "\n",
    "for ca in cat:\n",
    "    path = os.path.join(folder, ca)\n",
    "    for im in os.listdir(path):\n",
    "    \tim_path = os.path.join(path, im)\n",
    "    \timg = load_img(im_path, target_size=(224, 224))\n",
    "    \timg = img_to_array(img)\n",
    "    \timg = preprocess_input(img)\n",
    "\n",
    "    \tx.append(img)\n",
    "    \ty.append(ca)\n",
    "\n",
    "lb = LabelBinarizer()\n",
    "y = lb.fit_transform(y)\n",
    "y = to_categorical(y)"
   ]
  },
  {
   "cell_type": "code",
   "execution_count": 4,
   "id": "af986672",
   "metadata": {},
   "outputs": [],
   "source": [
    "x = np.array(x, dtype=\"float32\")\n",
    "y = np.array(y)\n",
    "\n",
    "(x_train, x_test, y_train, y_test) = train_test_split(x, y,test_size=0.20, stratify=y, random_state=42)\n",
    "\n",
    "# construct the training image generator for data augmentation\n",
    "augment = ImageDataGenerator(\n",
    "\trotation_range=20,\n",
    "\tzoom_range=0.15,\n",
    "\twidth_shift_range=0.2,\n",
    "\theight_shift_range=0.2,\n",
    "\tshear_range=0.15,\n",
    "\thorizontal_flip=True,\n",
    "\tfill_mode=\"nearest\")"
   ]
  },
  {
   "cell_type": "code",
   "execution_count": 5,
   "id": "9ec6908a",
   "metadata": {},
   "outputs": [],
   "source": [
    "from keras.applications import VGG16\n",
    "bm = VGG16(weights = 'imagenet',  include_top = False, input_shape = (224, 224, 3))\n",
    "\n"
   ]
  },
  {
   "cell_type": "code",
   "execution_count": 6,
   "id": "e2124d75",
   "metadata": {},
   "outputs": [],
   "source": [
    "hm = bm.output\n",
    "hm = AveragePooling2D(pool_size=(7, 7))(hm)\n",
    "hm = Flatten(name=\"flatten\")(hm)\n",
    "hm = Dense(128, activation=\"relu\")(hm)\n",
    "hm = Dropout(0.5)(hm)\n",
    "hm = Dense(2, activation=\"softmax\")(hm)"
   ]
  },
  {
   "cell_type": "code",
   "execution_count": 7,
   "id": "6486ea33",
   "metadata": {},
   "outputs": [
    {
     "name": "stderr",
     "output_type": "stream",
     "text": [
      "E:\\anacond3_9\\lib\\site-packages\\keras\\optimizers\\optimizer_v2\\adam.py:110: UserWarning: The `lr` argument is deprecated, use `learning_rate` instead.\n",
      "  super(Adam, self).__init__(name, **kwargs)\n"
     ]
    }
   ],
   "source": [
    "vgg_model = Model(inputs=bm.input, outputs=hm)\n",
    "for layer in bm.layers:\n",
    "    layer.trainable = False\n",
    "    \n",
    "optimiser = Adam(lr=0.0001, decay=0.0001 / 20)\n",
    "vgg_model.compile(loss=\"binary_crossentropy\", optimizer=optimiser,metrics=[\"accuracy\"])"
   ]
  },
  {
   "cell_type": "code",
   "execution_count": 8,
   "id": "59094456",
   "metadata": {},
   "outputs": [
    {
     "name": "stdout",
     "output_type": "stream",
     "text": [
      "Epoch 1/7\n",
      "116/116 [==============================] - 1300s 11s/step - loss: 0.6810 - accuracy: 0.6142 - val_loss: 0.5867 - val_accuracy: 0.7310\n",
      "Epoch 2/7\n",
      "116/116 [==============================] - 981s 8s/step - loss: 0.5883 - accuracy: 0.7300 - val_loss: 0.5022 - val_accuracy: 0.8875\n",
      "Epoch 3/7\n",
      "116/116 [==============================] - 993s 9s/step - loss: 0.5032 - accuracy: 0.8404 - val_loss: 0.4253 - val_accuracy: 0.8832\n",
      "Epoch 4/7\n",
      "116/116 [==============================] - 987s 9s/step - loss: 0.4352 - accuracy: 0.8791 - val_loss: 0.3656 - val_accuracy: 0.8960\n",
      "Epoch 5/7\n",
      "116/116 [==============================] - 990s 9s/step - loss: 0.3813 - accuracy: 0.8948 - val_loss: 0.3162 - val_accuracy: 0.9121\n",
      "Epoch 6/7\n",
      "116/116 [==============================] - 985s 9s/step - loss: 0.3438 - accuracy: 0.8996 - val_loss: 0.2728 - val_accuracy: 0.9260\n",
      "Epoch 7/7\n",
      "116/116 [==============================] - 984s 8s/step - loss: 0.3118 - accuracy: 0.9061 - val_loss: 0.2458 - val_accuracy: 0.9271\n"
     ]
    }
   ],
   "source": [
    "h = vgg_model.fit(augment.flow(x_train, y_train, batch_size=32),steps_per_epoch=len(x_train) // 32,validation_data=(x_test, y_test),validation_steps=len(x_test) // 32,epochs=7)\n"
   ]
  },
  {
   "cell_type": "code",
   "execution_count": 9,
   "id": "7bc9702a",
   "metadata": {},
   "outputs": [
    {
     "name": "stdout",
     "output_type": "stream",
     "text": [
      "30/30 [==============================] - 198s 7s/step\n",
      "[[0.65455776 0.3454423 ]\n",
      " [0.35165533 0.64834464]\n",
      " [0.13911591 0.86088413]\n",
      " ...\n",
      " [0.00514391 0.9948561 ]\n",
      " [0.03330072 0.96669924]\n",
      " [0.99647826 0.00352173]]\n"
     ]
    }
   ],
   "source": [
    "pre = vgg_model.predict(x_test,batch_size=32)\n",
    "print(pre)\n",
    "\n",
    "#pre = np.argmax(pre, axis=1)\n",
    "\n",
    "#print(classification_report(y_test.argmax(axis=1), pre,target_names=lb.classes_))\n"
   ]
  },
  {
   "cell_type": "code",
   "execution_count": 10,
   "id": "68a5e471",
   "metadata": {},
   "outputs": [],
   "source": [
    "vgg_model.save(\"vgg16.model\", save_format=\"h5\")"
   ]
  },
  {
   "cell_type": "code",
   "execution_count": 11,
   "id": "90d136ca",
   "metadata": {},
   "outputs": [
    {
     "name": "stdout",
     "output_type": "stream",
     "text": [
      "[[0.65455776 0.3454423 ]\n",
      " [0.35165533 0.64834464]\n",
      " [0.13911591 0.86088413]\n",
      " ...\n",
      " [0.00514391 0.9948561 ]\n",
      " [0.03330072 0.96669924]\n",
      " [0.99647826 0.00352173]]\n"
     ]
    }
   ],
   "source": [
    "print(pre)"
   ]
  },
  {
   "cell_type": "code",
   "execution_count": null,
   "id": "31499fde",
   "metadata": {},
   "outputs": [],
   "source": []
  }
 ],
 "metadata": {
  "kernelspec": {
   "display_name": "Python 3 (ipykernel)",
   "language": "python",
   "name": "python3"
  },
  "language_info": {
   "codemirror_mode": {
    "name": "ipython",
    "version": 3
   },
   "file_extension": ".py",
   "mimetype": "text/x-python",
   "name": "python",
   "nbconvert_exporter": "python",
   "pygments_lexer": "ipython3",
   "version": "3.9.12"
  }
 },
 "nbformat": 4,
 "nbformat_minor": 5
}
